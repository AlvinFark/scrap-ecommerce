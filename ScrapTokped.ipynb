{
 "cells": [
  {
   "cell_type": "code",
   "execution_count": null,
   "id": "dd1ab5ee",
   "metadata": {},
   "outputs": [],
   "source": [
    "# install pandas, beautifulsoup and selenium before if necessary\n",
    "# imports\n",
    "import time\n",
    "import re\n",
    "\n",
    "from selenium import webdriver\n",
    "from selenium.webdriver.common.keys import Keys\n",
    "\n",
    "from bs4 import BeautifulSoup\n",
    "\n",
    "import pandas as pd"
   ]
  },
  {
   "cell_type": "code",
   "execution_count": null,
   "id": "3b123bcd",
   "metadata": {
    "scrolled": false
   },
   "outputs": [],
   "source": [
    "# im using chromedriver v96, if not supported download new chromedriver aligned with your chrome version\n",
    "# create the chrome session \n",
    "driver = webdriver.Chrome(executable_path=\"chromedriver.exe\")"
   ]
  },
  {
   "cell_type": "code",
   "execution_count": null,
   "id": "b59edb5d",
   "metadata": {
    "scrolled": true
   },
   "outputs": [],
   "source": [
    "# wait time between page loaded and scraped (in seconds) to handle slow internet\n",
    "pageLoadWait = 5\n",
    "\n",
    "# open the page and save it variable content then make it readable using beautifulsoup\n",
    "def getListProductPage(pageNum):\n",
    "    driver.get(\"https://www.tokopedia.com/p/handphone-tablet/handphone?page=\" + str(pageNum))\n",
    "    driver.find_element_by_tag_name('html').send_keys(Keys.END)\n",
    "\n",
    "    time.sleep(pageLoadWait)\n",
    "    content = driver.page_source\n",
    "    return BeautifulSoup(content, \"lxml\")"
   ]
  },
  {
   "cell_type": "code",
   "execution_count": null,
   "id": "c0dcd008",
   "metadata": {},
   "outputs": [],
   "source": [
    "# tokopedia have promotion program, some links start with ta.tokopedia\n",
    "# it doesn't allow direct call for the promotion link so we need to extract the standard link\n",
    "def getLink(card):\n",
    "    link = card[\"href\"]\n",
    "    if (link.startswith(\"https://ta.tokopedia.com\")):\n",
    "        link = link[link.index(\"www.tokopedia.com\"):link.index(\"%3Fsrc\")]\n",
    "        link = \"https://\" + link.replace('%2F', '/')\n",
    "    return link\n",
    "\n",
    "# we take the shop name from the list page because it's done async at product page\n",
    "# sometimes some card have image of shop before shop name so need to handle that as well\n",
    "def getShopName(card):\n",
    "    wrapper = list(list(card.find(\"div\", {\"data-testid\": \"divProductWrapper\"}))[1])[2]\n",
    "    if len(list(list(wrapper)[0])) > 1:\n",
    "        return list(list(wrapper)[0])[1].getText()\n",
    "    else:\n",
    "        return list(list(wrapper)[1])[1].getText()"
   ]
  },
  {
   "cell_type": "code",
   "execution_count": null,
   "id": "8b1ea8f5",
   "metadata": {
    "scrolled": true
   },
   "outputs": [],
   "source": [
    "# tokopedia have tags for their automated testing called \"data-testid\", we will use those tags for reference\n",
    "numberOfProduct = 100\n",
    "\n",
    "data = {}\n",
    "i = 1\n",
    "while (len(data.keys())<numberOfProduct):\n",
    "    for card in getListProductPage(i).findAll(\"a\", {\"data-testid\": \"lnkProductContainer\"}):\n",
    "        data[getLink(card)] = getShopName(card)\n",
    "        if len(data.keys())==numberOfProduct:\n",
    "            break\n",
    "    i+=1\n",
    "data"
   ]
  },
  {
   "cell_type": "code",
   "execution_count": null,
   "id": "48dae81e",
   "metadata": {
    "scrolled": true
   },
   "outputs": [],
   "source": [
    "# functions to get details from detail page\n",
    "def getName(body):\n",
    "    return body.find(\"h1\", {\"data-testid\": \"lblPDPDetailProductName\"}).getText()\n",
    "\n",
    "def getDesc(body):\n",
    "    result = \"\"\n",
    "    for string in body.find(\"div\", {\"data-testid\": \"lblPDPDescriptionProduk\"}).strings:\n",
    "        result += string + \"\\n\"\n",
    "    return result\n",
    "\n",
    "def getImg(body):\n",
    "    imgContainer = body.find(\"div\", {\"data-testid\": \"PDPImageMain\"})\n",
    "    return list(list(list(imgContainer)[0])[1])[0][\"src\"]\n",
    "\n",
    "# it's possible that there's no rating so will return null\n",
    "def getRating(body):\n",
    "    ratingText = body.find(\"span\", {\"data-testid\": \"lblPDPDetailProductRatingNumber\"})\n",
    "    if (ratingText is not None):\n",
    "        return float(ratingText.getText())\n",
    "\n",
    "def getPrice(body):\n",
    "    textPrice = body.find(\"div\", {\"data-testid\": \"lblPDPDetailProductPrice\"}).getText()\n",
    "    return int(re.sub('[^0-9]','', textPrice))"
   ]
  },
  {
   "cell_type": "code",
   "execution_count": null,
   "id": "5badbbe5",
   "metadata": {},
   "outputs": [],
   "source": [
    "# because we need description, we have to open the pages of each product to get it\n",
    "\n",
    "columns = [\"name\",\"desc\",\"imgUrl\",\"price\",\"rating\",\"storeName\"]\n",
    "products = []\n",
    "for link in data:\n",
    "    driver.get(link)\n",
    "    time.sleep(pageLoadWait)\n",
    "    content = driver.page_source\n",
    "    soup = BeautifulSoup(content, \"lxml\")\n",
    "    products.append([getName(soup), getDesc(soup), getImg(soup), getPrice(soup), getRating(soup), data[link]])\n",
    "products"
   ]
  },
  {
   "cell_type": "code",
   "execution_count": null,
   "id": "ed7a7e05",
   "metadata": {},
   "outputs": [],
   "source": [
    "df = pd.DataFrame(products, columns=columns)\n",
    "df"
   ]
  },
  {
   "cell_type": "code",
   "execution_count": null,
   "id": "d7dc9e3f",
   "metadata": {},
   "outputs": [],
   "source": [
    "df.to_csv(r'scrapResult.csv', sep = ';')"
   ]
  }
 ],
 "metadata": {
  "kernelspec": {
   "display_name": "Python 3 (ipykernel)",
   "language": "python",
   "name": "python3"
  },
  "language_info": {
   "codemirror_mode": {
    "name": "ipython",
    "version": 3
   },
   "file_extension": ".py",
   "mimetype": "text/x-python",
   "name": "python",
   "nbconvert_exporter": "python",
   "pygments_lexer": "ipython3",
   "version": "3.9.5"
  }
 },
 "nbformat": 4,
 "nbformat_minor": 5
}
